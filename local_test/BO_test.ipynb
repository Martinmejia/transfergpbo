{
 "cells": [
  {
   "cell_type": "code",
   "execution_count": 9,
   "id": "b8d312c3-0dbf-485d-b104-f0c945b0c9ed",
   "metadata": {},
   "outputs": [],
   "source": [
    "import numpy as np\n",
    "from emukit.core import ParameterSpace, ContinuousParameter\n",
    "import hartmann"
   ]
  },
  {
   "cell_type": "code",
   "execution_count": 14,
   "id": "4bf0d800-596b-4402-9641-d36e9731ec7c",
   "metadata": {},
   "outputs": [
    {
     "data": {
      "text/plain": [
       "(8, 1)"
      ]
     },
     "execution_count": 14,
     "metadata": {},
     "output_type": "execute_result"
    }
   ],
   "source": [
    "x_list = [0.0001, 0.001, 0.01, 0.1, 1, 10, 100, 1000]\n",
    "x = np.array(x_list).reshape(-1,1)\n",
    "x.shape"
   ]
  },
  {
   "cell_type": "code",
   "execution_count": 15,
   "id": "d446e73c-036f-4c3c-aa48-d80879639972",
   "metadata": {},
   "outputs": [
    {
     "data": {
      "text/plain": [
       "array([[-0.0681142 ],\n",
       "       [-0.06938533],\n",
       "       [-0.08315794],\n",
       "       [-0.34664797],\n",
       "       [-0.30047607],\n",
       "       [ 0.        ],\n",
       "       [ 0.        ],\n",
       "       [ 0.        ]])"
      ]
     },
     "execution_count": 15,
     "metadata": {},
     "output_type": "execute_result"
    }
   ],
   "source": [
    "hartmann.hartmann3d_function(x)"
   ]
  },
  {
   "cell_type": "code",
   "execution_count": null,
   "id": "09b5e647-1760-4232-b7e6-ee43a174f0e3",
   "metadata": {},
   "outputs": [],
   "source": []
  }
 ],
 "metadata": {
  "kernelspec": {
   "display_name": "Python 3 (ipykernel)",
   "language": "python",
   "name": "python3"
  },
  "language_info": {
   "codemirror_mode": {
    "name": "ipython",
    "version": 3
   },
   "file_extension": ".py",
   "mimetype": "text/x-python",
   "name": "python",
   "nbconvert_exporter": "python",
   "pygments_lexer": "ipython3",
   "version": "3.9.18"
  }
 },
 "nbformat": 4,
 "nbformat_minor": 5
}
